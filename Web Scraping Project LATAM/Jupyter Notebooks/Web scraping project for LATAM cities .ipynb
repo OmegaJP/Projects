{
 "cells": [
  {
   "cell_type": "code",
   "execution_count": 1,
   "metadata": {},
   "outputs": [],
   "source": [
    "import pandas as pd\n",
    "import numpy as np\n",
    "import matplotlib as plt \n",
    "\n",
    "%matplotlib inline \n",
    "\n",
    "from urllib.request import urlopen\n",
    "from bs4 import BeautifulSoup\n",
    "import re"
   ]
  },
  {
   "cell_type": "code",
   "execution_count": 2,
   "metadata": {},
   "outputs": [],
   "source": [
    "url = \"https://es.wikipedia.org/wiki/Anexo:Ciudades_de_Ecuador\"\n",
    "html = urlopen(url)"
   ]
  },
  {
   "cell_type": "code",
   "execution_count": 4,
   "metadata": {},
   "outputs": [],
   "source": [
    "soup = BeautifulSoup(html)"
   ]
  },
  {
   "cell_type": "code",
   "execution_count": 5,
   "metadata": {},
   "outputs": [
    {
     "name": "stdout",
     "output_type": "stream",
     "text": [
      "[['221', ' Tiputini', '\\xa0Orellana', '-', '461\\n']]\n"
     ]
    }
   ],
   "source": [
    "data = []\n",
    "all_rows = soup.find_all('tr')\n",
    "for row in all_rows :\n",
    "    row_list = row.find_all('td')\n",
    "    DataRow = []\n",
    "    for cell in row_list : \n",
    "        DataRow.append(cell.text)\n",
    "    data.append(DataRow)\n",
    "data = data[43:]\n",
    "print(data[-1:])"
   ]
  },
  {
   "cell_type": "code",
   "execution_count": 6,
   "metadata": {},
   "outputs": [
    {
     "name": "stdout",
     "output_type": "stream",
     "text": [
      "   0               1                                2          3            4\n",
      "0  1       Guayaquil                           Guayas  1 985 379  2 278 691\\n\n",
      "1  2           Quito                        Pichincha  1 399 814  1 607 734\\n\n",
      "2  3          Cuenca                            Azuay    277 374    329 928\\n\n",
      "3  4   Santo Domingo   Santo Domingo de los Tsáchilas    238 827    270 875\\n\n",
      "4  5         Machala                           El Oro    204 578    231 260\\n\n"
     ]
    }
   ],
   "source": [
    "df = pd.DataFrame(data)\n",
    "print(df.head())"
   ]
  },
  {
   "cell_type": "code",
   "execution_count": 7,
   "metadata": {},
   "outputs": [
    {
     "name": "stdout",
     "output_type": "stream",
     "text": [
      "['#\\n' 'Ciudad\\n' 'Provincia\\n' 'Población (2001)\\n' 'Población (2010)\\n']\n"
     ]
    }
   ],
   "source": [
    "header_list = []\n",
    "col_header = soup.find_all('th')\n",
    "for col in col_header : \n",
    "    header_list.append(col.text)\n",
    "header_list = np.delete(header_list, [0,1,2,3,4])\n",
    "print(header_list)"
   ]
  },
  {
   "cell_type": "code",
   "execution_count": 8,
   "metadata": {},
   "outputs": [
    {
     "data": {
      "text/html": [
       "<div>\n",
       "<style scoped>\n",
       "    .dataframe tbody tr th:only-of-type {\n",
       "        vertical-align: middle;\n",
       "    }\n",
       "\n",
       "    .dataframe tbody tr th {\n",
       "        vertical-align: top;\n",
       "    }\n",
       "\n",
       "    .dataframe thead th {\n",
       "        text-align: right;\n",
       "    }\n",
       "</style>\n",
       "<table border=\"1\" class=\"dataframe\">\n",
       "  <thead>\n",
       "    <tr style=\"text-align: right;\">\n",
       "      <th></th>\n",
       "      <th>#\\n</th>\n",
       "      <th>Ciudad\\n</th>\n",
       "      <th>Provincia\\n</th>\n",
       "      <th>Población (2001)\\n</th>\n",
       "      <th>Población (2010)\\n</th>\n",
       "    </tr>\n",
       "  </thead>\n",
       "  <tbody>\n",
       "    <tr>\n",
       "      <th>0</th>\n",
       "      <td>1</td>\n",
       "      <td>Guayaquil</td>\n",
       "      <td>Guayas</td>\n",
       "      <td>1 985 379</td>\n",
       "      <td>2 278 691\\n</td>\n",
       "    </tr>\n",
       "    <tr>\n",
       "      <th>1</th>\n",
       "      <td>2</td>\n",
       "      <td>Quito</td>\n",
       "      <td>Pichincha</td>\n",
       "      <td>1 399 814</td>\n",
       "      <td>1 607 734\\n</td>\n",
       "    </tr>\n",
       "    <tr>\n",
       "      <th>2</th>\n",
       "      <td>3</td>\n",
       "      <td>Cuenca</td>\n",
       "      <td>Azuay</td>\n",
       "      <td>277 374</td>\n",
       "      <td>329 928\\n</td>\n",
       "    </tr>\n",
       "    <tr>\n",
       "      <th>3</th>\n",
       "      <td>4</td>\n",
       "      <td>Santo Domingo</td>\n",
       "      <td>Santo Domingo de los Tsáchilas</td>\n",
       "      <td>238 827</td>\n",
       "      <td>270 875\\n</td>\n",
       "    </tr>\n",
       "    <tr>\n",
       "      <th>4</th>\n",
       "      <td>5</td>\n",
       "      <td>Machala</td>\n",
       "      <td>El Oro</td>\n",
       "      <td>204 578</td>\n",
       "      <td>231 260\\n</td>\n",
       "    </tr>\n",
       "  </tbody>\n",
       "</table>\n",
       "</div>"
      ],
      "text/plain": [
       "  #\\n        Ciudad\\n                      Provincia\\n Población (2001)\\n  \\\n",
       "0   1       Guayaquil                           Guayas          1 985 379   \n",
       "1   2           Quito                        Pichincha          1 399 814   \n",
       "2   3          Cuenca                            Azuay            277 374   \n",
       "3   4   Santo Domingo   Santo Domingo de los Tsáchilas            238 827   \n",
       "4   5         Machala                           El Oro            204 578   \n",
       "\n",
       "  Población (2010)\\n  \n",
       "0        2 278 691\\n  \n",
       "1        1 607 734\\n  \n",
       "2          329 928\\n  \n",
       "3          270 875\\n  \n",
       "4          231 260\\n  "
      ]
     },
     "execution_count": 8,
     "metadata": {},
     "output_type": "execute_result"
    }
   ],
   "source": [
    "df.columns = header_list\n",
    "df.head()"
   ]
  },
  {
   "cell_type": "code",
   "execution_count": 9,
   "metadata": {},
   "outputs": [
    {
     "data": {
      "text/plain": [
       "#\\n                    object\n",
       "Ciudad\\n               object\n",
       "Provincia\\n            object\n",
       "Población (2001)\\n     object\n",
       "Población (2010)\\n    float64\n",
       "dtype: object"
      ]
     },
     "execution_count": 9,
     "metadata": {},
     "output_type": "execute_result"
    }
   ],
   "source": [
    "df['Población (2010)\\n'] = df['Población (2010)\\n'].astype('string')\n",
    "df['Población (2010)\\n'] = [float(str(val).replace(' ','').replace('b','.').replace(\"'\",\"\").replace('\\\\n','')) for val in df['Población (2010)\\n'].values]\n",
    "df.dtypes"
   ]
  },
  {
   "cell_type": "code",
   "execution_count": 10,
   "metadata": {},
   "outputs": [],
   "source": [
    "df = df.loc[ df['Población (2010)\\n'] >= 200000]"
   ]
  },
  {
   "cell_type": "code",
   "execution_count": 12,
   "metadata": {},
   "outputs": [
    {
     "data": {
      "text/html": [
       "<div>\n",
       "<style scoped>\n",
       "    .dataframe tbody tr th:only-of-type {\n",
       "        vertical-align: middle;\n",
       "    }\n",
       "\n",
       "    .dataframe tbody tr th {\n",
       "        vertical-align: top;\n",
       "    }\n",
       "\n",
       "    .dataframe thead th {\n",
       "        text-align: right;\n",
       "    }\n",
       "</style>\n",
       "<table border=\"1\" class=\"dataframe\">\n",
       "  <thead>\n",
       "    <tr style=\"text-align: right;\">\n",
       "      <th></th>\n",
       "      <th>Ciudad\\n</th>\n",
       "      <th>Provincia\\n</th>\n",
       "      <th>Población (2001)\\n</th>\n",
       "      <th>Población (2010)\\n</th>\n",
       "    </tr>\n",
       "    <tr>\n",
       "      <th>#</th>\n",
       "      <th></th>\n",
       "      <th></th>\n",
       "      <th></th>\n",
       "      <th></th>\n",
       "    </tr>\n",
       "  </thead>\n",
       "  <tbody>\n",
       "    <tr>\n",
       "      <th>1</th>\n",
       "      <td>Guayaquil</td>\n",
       "      <td>Guayas</td>\n",
       "      <td>1 985 379</td>\n",
       "      <td>2278691.0</td>\n",
       "    </tr>\n",
       "    <tr>\n",
       "      <th>2</th>\n",
       "      <td>Quito</td>\n",
       "      <td>Pichincha</td>\n",
       "      <td>1 399 814</td>\n",
       "      <td>1607734.0</td>\n",
       "    </tr>\n",
       "    <tr>\n",
       "      <th>3</th>\n",
       "      <td>Cuenca</td>\n",
       "      <td>Azuay</td>\n",
       "      <td>277 374</td>\n",
       "      <td>329928.0</td>\n",
       "    </tr>\n",
       "    <tr>\n",
       "      <th>4</th>\n",
       "      <td>Santo Domingo</td>\n",
       "      <td>Santo Domingo de los Tsáchilas</td>\n",
       "      <td>238 827</td>\n",
       "      <td>270875.0</td>\n",
       "    </tr>\n",
       "    <tr>\n",
       "      <th>5</th>\n",
       "      <td>Machala</td>\n",
       "      <td>El Oro</td>\n",
       "      <td>204 578</td>\n",
       "      <td>231260.0</td>\n",
       "    </tr>\n",
       "    <tr>\n",
       "      <th>6</th>\n",
       "      <td>Durán</td>\n",
       "      <td>Guayas</td>\n",
       "      <td>174 531</td>\n",
       "      <td>230839.0</td>\n",
       "    </tr>\n",
       "    <tr>\n",
       "      <th>7</th>\n",
       "      <td>Manta</td>\n",
       "      <td>Manabí</td>\n",
       "      <td>183 166</td>\n",
       "      <td>217553.0</td>\n",
       "    </tr>\n",
       "    <tr>\n",
       "      <th>8</th>\n",
       "      <td>Portoviejo</td>\n",
       "      <td>Manabí</td>\n",
       "      <td>171 847</td>\n",
       "      <td>206682.0</td>\n",
       "    </tr>\n",
       "  </tbody>\n",
       "</table>\n",
       "</div>"
      ],
      "text/plain": [
       "           Ciudad\\n                      Provincia\\n Población (2001)\\n  \\\n",
       "#\\n                                                                       \n",
       "1         Guayaquil                           Guayas          1 985 379   \n",
       "2             Quito                        Pichincha          1 399 814   \n",
       "3            Cuenca                            Azuay            277 374   \n",
       "4     Santo Domingo   Santo Domingo de los Tsáchilas            238 827   \n",
       "5           Machala                           El Oro            204 578   \n",
       "6             Durán                           Guayas            174 531   \n",
       "7             Manta                           Manabí            183 166   \n",
       "8        Portoviejo                           Manabí            171 847   \n",
       "\n",
       "     Población (2010)\\n  \n",
       "#\\n                      \n",
       "1             2278691.0  \n",
       "2             1607734.0  \n",
       "3              329928.0  \n",
       "4              270875.0  \n",
       "5              231260.0  \n",
       "6              230839.0  \n",
       "7              217553.0  \n",
       "8              206682.0  "
      ]
     },
     "execution_count": 12,
     "metadata": {},
     "output_type": "execute_result"
    }
   ],
   "source": [
    "df = df.set_index('#\\n')\n",
    "df"
   ]
  },
  {
   "cell_type": "code",
   "execution_count": 13,
   "metadata": {},
   "outputs": [],
   "source": [
    "df.to_excel('Ecuador.xlsx')"
   ]
  },
  {
   "cell_type": "code",
   "execution_count": null,
   "metadata": {},
   "outputs": [],
   "source": []
  }
 ],
 "metadata": {
  "kernelspec": {
   "display_name": "Python 3",
   "language": "python",
   "name": "python3"
  },
  "language_info": {
   "codemirror_mode": {
    "name": "ipython",
    "version": 3
   },
   "file_extension": ".py",
   "mimetype": "text/x-python",
   "name": "python",
   "nbconvert_exporter": "python",
   "pygments_lexer": "ipython3",
   "version": "3.8.5"
  }
 },
 "nbformat": 4,
 "nbformat_minor": 4
}
